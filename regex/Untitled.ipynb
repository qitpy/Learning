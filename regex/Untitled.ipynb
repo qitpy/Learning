{
 "cells": [
  {
   "cell_type": "code",
   "execution_count": 2,
   "id": "a8990b81",
   "metadata": {},
   "outputs": [],
   "source": [
    "import re\n",
    "\n",
    "\n"
   ]
  },
  {
   "cell_type": "code",
   "execution_count": 3,
   "id": "31ebe6f6",
   "metadata": {},
   "outputs": [
    {
     "data": {
      "text/plain": [
       "<function re.sub(pattern, repl, string, count=0, flags=0)>"
      ]
     },
     "execution_count": 3,
     "metadata": {},
     "output_type": "execute_result"
    }
   ],
   "source": [
    "re.sub"
   ]
  },
  {
   "cell_type": "code",
   "execution_count": 4,
   "id": "5ca71395",
   "metadata": {},
   "outputs": [],
   "source": [
    "raw = r'ahhi'\n"
   ]
  },
  {
   "cell_type": "code",
   "execution_count": 5,
   "id": "2aa79622",
   "metadata": {},
   "outputs": [
    {
     "data": {
      "text/plain": [
       "'ahhi'"
      ]
     },
     "execution_count": 5,
     "metadata": {},
     "output_type": "execute_result"
    }
   ],
   "source": [
    "raw"
   ]
  },
  {
   "cell_type": "code",
   "execution_count": 6,
   "id": "787439a9",
   "metadata": {},
   "outputs": [],
   "source": [
    "raw = r'a\\tb'"
   ]
  },
  {
   "cell_type": "code",
   "execution_count": 7,
   "id": "febd6277",
   "metadata": {},
   "outputs": [
    {
     "data": {
      "text/plain": [
       "'a\\\\tb'"
      ]
     },
     "execution_count": 7,
     "metadata": {},
     "output_type": "execute_result"
    }
   ],
   "source": [
    "raw"
   ]
  },
  {
   "cell_type": "code",
   "execution_count": 8,
   "id": "c5600ea4",
   "metadata": {},
   "outputs": [],
   "source": [
    "text = ' is my lucky number'"
   ]
  },
  {
   "cell_type": "code",
   "execution_count": 9,
   "id": "587439e7",
   "metadata": {},
   "outputs": [],
   "source": [
    "pattern = r'\\d+$'\n"
   ]
  },
  {
   "cell_type": "code",
   "execution_count": 10,
   "id": "b5ae12c2",
   "metadata": {},
   "outputs": [],
   "source": [
    "a = re.match(pattern, text)"
   ]
  },
  {
   "cell_type": "code",
   "execution_count": 11,
   "id": "17e4715a",
   "metadata": {},
   "outputs": [],
   "source": [
    "a"
   ]
  },
  {
   "cell_type": "code",
   "execution_count": null,
   "id": "3f9d003e",
   "metadata": {},
   "outputs": [],
   "source": []
  }
 ],
 "metadata": {
  "kernelspec": {
   "display_name": "Python 3",
   "language": "python",
   "name": "python3"
  },
  "language_info": {
   "codemirror_mode": {
    "name": "ipython",
    "version": 3
   },
   "file_extension": ".py",
   "mimetype": "text/x-python",
   "name": "python",
   "nbconvert_exporter": "python",
   "pygments_lexer": "ipython3",
   "version": "3.11.0"
  },
  "vscode": {
   "interpreter": {
    "hash": "e7370f93d1d0cde622a1f8e1c04877d8463912d04d973331ad4851f04de6915a"
   }
  }
 },
 "nbformat": 4,
 "nbformat_minor": 5
}
