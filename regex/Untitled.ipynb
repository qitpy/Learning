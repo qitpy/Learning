{
 "cells": [
  {
   "cell_type": "code",
   "execution_count": 85,
   "id": "a8990b81",
   "metadata": {},
   "outputs": [],
   "source": [
    "import re"
   ]
  },
  {
   "cell_type": "code",
   "execution_count": 151,
   "id": "c5600ea4",
   "metadata": {},
   "outputs": [],
   "source": [
    "text = 'kkk99-f 111000 00333300 98 ahihi 99'"
   ]
  },
  {
   "cell_type": "code",
   "execution_count": 152,
   "id": "587439e7",
   "metadata": {},
   "outputs": [],
   "source": [
    "pattern = r\"(?P<Year>\\d{3})(?P<mon>\\d{2})(?P<quyet>\\d{2})\"\n"
   ]
  },
  {
   "cell_type": "code",
   "execution_count": 153,
   "id": "b5ae12c2",
   "metadata": {},
   "outputs": [],
   "source": [
    "a = re.search(pattern, text)"
   ]
  },
  {
   "cell_type": "code",
   "execution_count": 154,
   "id": "17e4715a",
   "metadata": {},
   "outputs": [
    {
     "data": {
      "text/plain": [
       "{'Year': '003', 'mon': '33', 'quyet': '30'}"
      ]
     },
     "execution_count": 154,
     "metadata": {},
     "output_type": "execute_result"
    }
   ],
   "source": [
    "a.groupdict()"
   ]
  }
 ],
 "metadata": {
  "kernelspec": {
   "display_name": "Python 3",
   "language": "python",
   "name": "python3"
  },
  "language_info": {
   "codemirror_mode": {
    "name": "ipython",
    "version": 3
   },
   "file_extension": ".py",
   "mimetype": "text/x-python",
   "name": "python",
   "nbconvert_exporter": "python",
   "pygments_lexer": "ipython3",
   "version": "3.11.1 (main, Dec  7 2022, 00:00:00) [GCC 12.2.1 20221121 (Red Hat 12.2.1-4)]"
  },
  "vscode": {
   "interpreter": {
    "hash": "e7370f93d1d0cde622a1f8e1c04877d8463912d04d973331ad4851f04de6915a"
   }
  }
 },
 "nbformat": 4,
 "nbformat_minor": 5
}
