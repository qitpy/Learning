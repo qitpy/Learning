{
 "cells": [
  {
   "cell_type": "code",
   "execution_count": 16,
   "id": "2a713e97",
   "metadata": {},
   "outputs": [],
   "source": [
    "l = [1, 2,3 ,2,5,3,3]"
   ]
  },
  {
   "cell_type": "code",
   "execution_count": 17,
   "id": "9137b5ad",
   "metadata": {},
   "outputs": [
    {
     "name": "stdout",
     "output_type": "stream",
     "text": [
      "True\n"
     ]
    }
   ],
   "source": [
    "for item in range(len(l) - 1):\n",
    "    if l[item:item+2] == [3,3]:\n",
    "        print(True)\n",
    "    "
   ]
  },
  {
   "cell_type": "code",
   "execution_count": 19,
   "id": "ca9c4ad5",
   "metadata": {},
   "outputs": [
    {
     "data": {
      "text/plain": [
       "'aa'"
      ]
     },
     "execution_count": 19,
     "metadata": {},
     "output_type": "execute_result"
    }
   ],
   "source": [
    "str(\"aa\")"
   ]
  },
  {
   "cell_type": "code",
   "execution_count": 21,
   "id": "a810a55a",
   "metadata": {},
   "outputs": [],
   "source": [
    "a = \"doan van quyet\""
   ]
  },
  {
   "cell_type": "code",
   "execution_count": 22,
   "id": "bf2804d4",
   "metadata": {},
   "outputs": [],
   "source": [
    "def tripleStr(st):\n",
    "    b = ''\n",
    "    for item in st:\n",
    "        b += item*3\n",
    "    return b"
   ]
  },
  {
   "cell_type": "code",
   "execution_count": 23,
   "id": "7f151704",
   "metadata": {},
   "outputs": [
    {
     "data": {
      "text/plain": [
       "'dddoooaaannn   vvvaaannn   qqquuuyyyeeettt'"
      ]
     },
     "execution_count": 23,
     "metadata": {},
     "output_type": "execute_result"
    }
   ],
   "source": [
    "tripleStr(a)"
   ]
  },
  {
   "cell_type": "code",
   "execution_count": 27,
   "id": "8195176f",
   "metadata": {},
   "outputs": [],
   "source": [
    "square = lambda num,ba,bon: num ** 2 * ba * bon"
   ]
  },
  {
   "cell_type": "code",
   "execution_count": 29,
   "id": "585f7c88",
   "metadata": {},
   "outputs": [
    {
     "data": {
      "text/plain": [
       "180"
      ]
     },
     "execution_count": 29,
     "metadata": {},
     "output_type": "execute_result"
    }
   ],
   "source": [
    "square(3, 4, 5)"
   ]
  },
  {
   "cell_type": "code",
   "execution_count": 33,
   "id": "b1943af5",
   "metadata": {},
   "outputs": [
    {
     "data": {
      "text/plain": [
       "{'a', 'b', 'c'}"
      ]
     },
     "execution_count": 33,
     "metadata": {},
     "output_type": "execute_result"
    }
   ],
   "source": [
    "set(map(lambda x:x[0], ['ahihi', 'bhihi', 'chihi']))"
   ]
  },
  {
   "cell_type": "code",
   "execution_count": 37,
   "id": "32bcfe8d",
   "metadata": {},
   "outputs": [],
   "source": [
    "global x"
   ]
  },
  {
   "cell_type": "code",
   "execution_count": 52,
   "id": "89914f04",
   "metadata": {},
   "outputs": [],
   "source": [
    "def palindrome(s):\n",
    "    s = s.replace(' ', '')\n",
    "    print(s)"
   ]
  },
  {
   "cell_type": "code",
   "execution_count": 53,
   "id": "82d740a4",
   "metadata": {},
   "outputs": [
    {
     "name": "stdout",
     "output_type": "stream",
     "text": [
      "ahihihihihihi\n"
     ]
    }
   ],
   "source": [
    "e = \"ahihi hihi hihi\"\n",
    "palindrome(e)"
   ]
  },
  {
   "cell_type": "code",
   "execution_count": 54,
   "id": "56b51c21",
   "metadata": {},
   "outputs": [
    {
     "data": {
      "text/plain": [
       "'ahihi hihi hihi'"
      ]
     },
     "execution_count": 54,
     "metadata": {},
     "output_type": "execute_result"
    }
   ],
   "source": [
    "e"
   ]
  },
  {
   "cell_type": "code",
   "execution_count": 55,
   "id": "1d216833",
   "metadata": {},
   "outputs": [],
   "source": [
    "import string"
   ]
  },
  {
   "cell_type": "code",
   "execution_count": 56,
   "id": "13666342",
   "metadata": {},
   "outputs": [],
   "source": [
    "alphabet=string.ascii_lowercase"
   ]
  },
  {
   "cell_type": "code",
   "execution_count": 57,
   "id": "3b0916e5",
   "metadata": {},
   "outputs": [
    {
     "data": {
      "text/plain": [
       "'abcdefghijklmnopqrstuvwxyz'"
      ]
     },
     "execution_count": 57,
     "metadata": {},
     "output_type": "execute_result"
    }
   ],
   "source": [
    "alphabet"
   ]
  },
  {
   "cell_type": "code",
   "execution_count": null,
   "id": "a88bda35",
   "metadata": {},
   "outputs": [],
   "source": []
  }
 ],
 "metadata": {
  "kernelspec": {
   "display_name": "Python 3 (ipykernel)",
   "language": "python",
   "name": "python3"
  },
  "language_info": {
   "codemirror_mode": {
    "name": "ipython",
    "version": 3
   },
   "file_extension": ".py",
   "mimetype": "text/x-python",
   "name": "python",
   "nbconvert_exporter": "python",
   "pygments_lexer": "ipython3",
   "version": "3.9.12"
  }
 },
 "nbformat": 4,
 "nbformat_minor": 5
}
