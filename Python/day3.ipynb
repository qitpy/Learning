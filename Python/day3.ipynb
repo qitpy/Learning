{
 "cells": [
  {
   "cell_type": "code",
   "execution_count": 1,
   "id": "5349861d",
   "metadata": {},
   "outputs": [
    {
     "name": "stdout",
     "output_type": "stream",
     "text": [
      "ahihi\n"
     ]
    }
   ],
   "source": [
    "if 1 ==1:\n",
    "    print(\"ahihi\")"
   ]
  },
  {
   "cell_type": "code",
   "execution_count": 10,
   "id": "6179daa5",
   "metadata": {},
   "outputs": [
    {
     "name": "stdout",
     "output_type": "stream",
     "text": [
      "yes\n"
     ]
    }
   ],
   "source": [
    "if 2 == 3:\n",
    "    print(\"hoh\")\n",
    "elif 2 == 2: print(\"yes\")\n",
    "else: print(\"koko\")"
   ]
  },
  {
   "cell_type": "code",
   "execution_count": 14,
   "id": "5ab771a7",
   "metadata": {},
   "outputs": [
    {
     "name": "stdout",
     "output_type": "stream",
     "text": [
      "Money is cool!\n"
     ]
    }
   ],
   "source": [
    "loc = 'Bank'\n",
    "\n",
    "if loc == 'Auto Shop':\n",
    "    print(\"Car are cool!\")\n",
    "elif loc == 'Bank':\n",
    "    print(\"Money is cool!\")\n",
    "elif loc == 'Store':\n",
    "    print(\"ahihi\")\n",
    "else:\n",
    "    print(\"i do not know much.\")"
   ]
  },
  {
   "cell_type": "markdown",
   "id": "5f8d94c5",
   "metadata": {},
   "source": [
    "# Loop"
   ]
  },
  {
   "cell_type": "code",
   "execution_count": 15,
   "id": "961fbfaf",
   "metadata": {},
   "outputs": [
    {
     "name": "stdout",
     "output_type": "stream",
     "text": [
      "1\n",
      "2\n",
      "3\n"
     ]
    }
   ],
   "source": [
    "my_iterable = [1,2,3]\n",
    "for item_name in my_iterable:\n",
    "    print(item_name)"
   ]
  },
  {
   "cell_type": "code",
   "execution_count": 16,
   "id": "75ac22c0",
   "metadata": {},
   "outputs": [],
   "source": [
    "mylist = [1,2,3,4,5,6,7,8,9,10]"
   ]
  },
  {
   "cell_type": "code",
   "execution_count": 17,
   "id": "ab8e7b5c",
   "metadata": {},
   "outputs": [
    {
     "name": "stdout",
     "output_type": "stream",
     "text": [
      "1\n",
      "2\n",
      "3\n"
     ]
    }
   ],
   "source": [
    "tup = (1,2,3)\n",
    "\n",
    "for item in tup:\n",
    "    print(item)"
   ]
  },
  {
   "cell_type": "code",
   "execution_count": 33,
   "id": "6ca5d0e4",
   "metadata": {},
   "outputs": [],
   "source": [
    "mylist = [[1,2], [3,4], [5,6], [7, None]]"
   ]
  },
  {
   "cell_type": "code",
   "execution_count": 35,
   "id": "9b756dac",
   "metadata": {},
   "outputs": [
    {
     "name": "stdout",
     "output_type": "stream",
     "text": [
      "ahihi 1\n",
      "oh no 2\n",
      "ahihi 3\n",
      "oh no 4\n",
      "ahihi 5\n",
      "oh no 6\n",
      "ahihi 7\n",
      "oh no None\n"
     ]
    }
   ],
   "source": [
    "for (a,b) in mylist:\n",
    "    print(f\"ahihi {a}\")\n",
    "    print(f'oh no {b}')"
   ]
  },
  {
   "cell_type": "code",
   "execution_count": 36,
   "id": "a3814185",
   "metadata": {},
   "outputs": [],
   "source": [
    "d = {'k1': 1, 'k2': 2, 'k3': 3}"
   ]
  },
  {
   "cell_type": "code",
   "execution_count": 44,
   "id": "7f3ea43a",
   "metadata": {},
   "outputs": [
    {
     "name": "stdout",
     "output_type": "stream",
     "text": [
      "k1\n",
      "k2\n",
      "k3\n"
     ]
    }
   ],
   "source": [
    "for item, value in d.items():\n",
    "    print(item)"
   ]
  },
  {
   "cell_type": "code",
   "execution_count": 45,
   "id": "c78cdd8a",
   "metadata": {},
   "outputs": [
    {
     "name": "stdout",
     "output_type": "stream",
     "text": [
      "h\n",
      "e\n",
      "l\n",
      "l\n",
      "o\n",
      " \n",
      "w\n",
      "o\n",
      "r\n",
      "l\n",
      "d\n"
     ]
    }
   ],
   "source": [
    "str = \"hello world\"\n",
    "for _ in str:\n",
    "    print(_)"
   ]
  },
  {
   "cell_type": "code",
   "execution_count": null,
   "id": "3744b94e",
   "metadata": {},
   "outputs": [],
   "source": []
  }
 ],
 "metadata": {
  "kernelspec": {
   "display_name": "Python 3 (ipykernel)",
   "language": "python",
   "name": "python3"
  },
  "language_info": {
   "codemirror_mode": {
    "name": "ipython",
    "version": 3
   },
   "file_extension": ".py",
   "mimetype": "text/x-python",
   "name": "python",
   "nbconvert_exporter": "python",
   "pygments_lexer": "ipython3",
   "version": "3.9.12"
  }
 },
 "nbformat": 4,
 "nbformat_minor": 5
}
