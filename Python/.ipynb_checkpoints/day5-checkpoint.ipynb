{
 "cells": [
  {
   "cell_type": "code",
   "execution_count": 16,
   "id": "41b7c2ac",
   "metadata": {},
   "outputs": [],
   "source": [
    "l = [1, 2,3 ,2,5,3,3]"
   ]
  },
  {
   "cell_type": "code",
   "execution_count": 17,
   "id": "b9dadc00",
   "metadata": {},
   "outputs": [
    {
     "name": "stdout",
     "output_type": "stream",
     "text": [
      "True\n"
     ]
    }
   ],
   "source": [
    "for item in range(len(l) - 1):\n",
    "    if l[item:item+2] == [3,3]:\n",
    "        print(True)\n",
    "    "
   ]
  },
  {
   "cell_type": "code",
   "execution_count": 19,
   "id": "b656896c",
   "metadata": {},
   "outputs": [
    {
     "data": {
      "text/plain": [
       "'aa'"
      ]
     },
     "execution_count": 19,
     "metadata": {},
     "output_type": "execute_result"
    }
   ],
   "source": [
    "str(\"aa\")"
   ]
  },
  {
   "cell_type": "code",
   "execution_count": 21,
   "id": "51c00503",
   "metadata": {},
   "outputs": [],
   "source": [
    "a = \"doan van quyet\""
   ]
  },
  {
   "cell_type": "code",
   "execution_count": null,
   "id": "43b44a96",
   "metadata": {},
   "outputs": [],
   "source": []
  }
 ],
 "metadata": {
  "kernelspec": {
   "display_name": "Python 3 (ipykernel)",
   "language": "python",
   "name": "python3"
  },
  "language_info": {
   "codemirror_mode": {
    "name": "ipython",
    "version": 3
   },
   "file_extension": ".py",
   "mimetype": "text/x-python",
   "name": "python",
   "nbconvert_exporter": "python",
   "pygments_lexer": "ipython3",
   "version": "3.9.12"
  }
 },
 "nbformat": 4,
 "nbformat_minor": 5
}
