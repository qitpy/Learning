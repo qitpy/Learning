{
 "cells": [
  {
   "cell_type": "code",
   "execution_count": null,
   "id": "92fa6438",
   "metadata": {},
   "outputs": [],
   "source": []
  },
  {
   "cell_type": "code",
   "execution_count": 14,
   "id": "f8b0961b",
   "metadata": {},
   "outputs": [
    {
     "name": "stdout",
     "output_type": "stream",
     "text": [
      "this is a string Inserted\n"
     ]
    }
   ],
   "source": [
    "print('this is a string {}'.format('Inserted'))"
   ]
  },
  {
   "cell_type": "code",
   "execution_count": 2,
   "id": "a4c6fa48",
   "metadata": {},
   "outputs": [
    {
     "name": "stdout",
     "output_type": "stream",
     "text": [
      "The {2} {0} {1}\n"
     ]
    }
   ],
   "source": [
    "print('The {2} {0} {1}')"
   ]
  },
  {
   "cell_type": "code",
   "execution_count": 3,
   "id": "13c8831c",
   "metadata": {},
   "outputs": [
    {
     "name": "stdout",
     "output_type": "stream",
     "text": [
      "The fox quyet brown\n"
     ]
    }
   ],
   "source": [
    "print('The {f} {c} {b}'.format(f='fox', b='brown', c='quyet'))"
   ]
  },
  {
   "cell_type": "code",
   "execution_count": 4,
   "id": "a70d3b03",
   "metadata": {},
   "outputs": [],
   "source": [
    "result = 123456.123456"
   ]
  },
  {
   "cell_type": "code",
   "execution_count": 5,
   "id": "cff7fd05",
   "metadata": {},
   "outputs": [
    {
     "data": {
      "text/plain": [
       "123456.123456"
      ]
     },
     "execution_count": 5,
     "metadata": {},
     "output_type": "execute_result"
    }
   ],
   "source": [
    "result"
   ]
  },
  {
   "cell_type": "code",
   "execution_count": 6,
   "id": "76a8ed1c",
   "metadata": {},
   "outputs": [
    {
     "name": "stdout",
     "output_type": "stream",
     "text": [
      "\n"
     ]
    }
   ],
   "source": [
    "print()"
   ]
  },
  {
   "cell_type": "code",
   "execution_count": 7,
   "id": "12731dbf",
   "metadata": {},
   "outputs": [
    {
     "name": "stdout",
     "output_type": "stream",
     "text": [
      "The result was 123456.123\n"
     ]
    }
   ],
   "source": [
    "print(\"The result was {r:10.3f}\".format(r=result))"
   ]
  },
  {
   "cell_type": "code",
   "execution_count": 12,
   "id": "68b6d226",
   "metadata": {},
   "outputs": [
    {
     "name": "stdout",
     "output_type": "stream",
     "text": [
      "The result was 123456.12\n"
     ]
    }
   ],
   "source": [
    "print(\"The result was {r:.2f}\".format(r=result))"
   ]
  },
  {
   "cell_type": "code",
   "execution_count": 15,
   "id": "a784340b",
   "metadata": {},
   "outputs": [
    {
     "ename": "SyntaxError",
     "evalue": "f-string: expecting '}' (4194912345.py, line 1)",
     "output_type": "error",
     "traceback": [
      "\u001b[0;36m  Input \u001b[0;32mIn [15]\u001b[0;36m\u001b[0m\n\u001b[0;31m    print(f'heello {'hihi'}')\u001b[0m\n\u001b[0m                     ^\u001b[0m\n\u001b[0;31mSyntaxError\u001b[0m\u001b[0;31m:\u001b[0m f-string: expecting '}'\n"
     ]
    }
   ],
   "source": [
    "print(f'heello {'hihi'}')"
   ]
  },
  {
   "cell_type": "code",
   "execution_count": 16,
   "id": "a6d65dc6",
   "metadata": {},
   "outputs": [
    {
     "name": "stdout",
     "output_type": "stream",
     "text": [
      "heello hihi\n"
     ]
    }
   ],
   "source": [
    "print(f'heello {\"hihi\"}')"
   ]
  },
  {
   "cell_type": "code",
   "execution_count": 17,
   "id": "1d17c20b",
   "metadata": {},
   "outputs": [],
   "source": [
    "a = f'hihi {result}'"
   ]
  },
  {
   "cell_type": "code",
   "execution_count": 18,
   "id": "020788f4",
   "metadata": {},
   "outputs": [
    {
     "data": {
      "text/plain": [
       "'hihi 123456.123456'"
      ]
     },
     "execution_count": 18,
     "metadata": {},
     "output_type": "execute_result"
    }
   ],
   "source": [
    "a"
   ]
  },
  {
   "cell_type": "markdown",
   "id": "1993b5c6",
   "metadata": {},
   "source": [
    "# LIST's Python"
   ]
  },
  {
   "cell_type": "code",
   "execution_count": 19,
   "id": "fa33d925",
   "metadata": {},
   "outputs": [],
   "source": [
    "my_list = [1, 2, 3]"
   ]
  },
  {
   "cell_type": "code",
   "execution_count": 20,
   "id": "0952d09f",
   "metadata": {},
   "outputs": [],
   "source": [
    "my_list = ['STRING', 100, 23.2]"
   ]
  },
  {
   "cell_type": "code",
   "execution_count": 21,
   "id": "9b89306f",
   "metadata": {},
   "outputs": [
    {
     "data": {
      "text/plain": [
       "3"
      ]
     },
     "execution_count": 21,
     "metadata": {},
     "output_type": "execute_result"
    }
   ],
   "source": [
    "len(my_list)"
   ]
  },
  {
   "cell_type": "code",
   "execution_count": 22,
   "id": "c3322efb",
   "metadata": {},
   "outputs": [
    {
     "data": {
      "text/plain": [
       "100"
      ]
     },
     "execution_count": 22,
     "metadata": {},
     "output_type": "execute_result"
    }
   ],
   "source": [
    "my_list[1]"
   ]
  },
  {
   "cell_type": "code",
   "execution_count": 23,
   "id": "b0a336bc",
   "metadata": {},
   "outputs": [
    {
     "data": {
      "text/plain": [
       "['STRING', 100]"
      ]
     },
     "execution_count": 23,
     "metadata": {},
     "output_type": "execute_result"
    }
   ],
   "source": [
    "my_list[:2]"
   ]
  },
  {
   "cell_type": "code",
   "execution_count": 24,
   "id": "dc9c0aa6",
   "metadata": {},
   "outputs": [],
   "source": [
    "another_list = ['four', 'five']"
   ]
  },
  {
   "cell_type": "code",
   "execution_count": 25,
   "id": "2d4d82e1",
   "metadata": {},
   "outputs": [],
   "source": [
    "combine_list = another_list + my_list"
   ]
  },
  {
   "cell_type": "code",
   "execution_count": 26,
   "id": "8cd6e79d",
   "metadata": {},
   "outputs": [
    {
     "data": {
      "text/plain": [
       "['four', 'five', 'STRING', 100, 23.2]"
      ]
     },
     "execution_count": 26,
     "metadata": {},
     "output_type": "execute_result"
    }
   ],
   "source": [
    "combine_list"
   ]
  },
  {
   "cell_type": "code",
   "execution_count": 28,
   "id": "8dc64a0d",
   "metadata": {},
   "outputs": [],
   "source": [
    "combine_list[1] = 'quyet1'"
   ]
  },
  {
   "cell_type": "code",
   "execution_count": 29,
   "id": "b62e7fad",
   "metadata": {},
   "outputs": [
    {
     "data": {
      "text/plain": [
       "['four', 'quyet1', 'STRING', 100, 23.2]"
      ]
     },
     "execution_count": 29,
     "metadata": {},
     "output_type": "execute_result"
    }
   ],
   "source": [
    "combine_list"
   ]
  },
  {
   "cell_type": "code",
   "execution_count": 30,
   "id": "a8081f23",
   "metadata": {},
   "outputs": [
    {
     "data": {
      "text/plain": [
       "'u'"
      ]
     },
     "execution_count": 30,
     "metadata": {},
     "output_type": "execute_result"
    }
   ],
   "source": [
    "combine_list[1][1]"
   ]
  },
  {
   "cell_type": "code",
   "execution_count": 31,
   "id": "97b432c2",
   "metadata": {},
   "outputs": [
    {
     "ename": "TypeError",
     "evalue": "'str' object does not support item assignment",
     "output_type": "error",
     "traceback": [
      "\u001b[0;31m---------------------------------------------------------------------------\u001b[0m",
      "\u001b[0;31mTypeError\u001b[0m                                 Traceback (most recent call last)",
      "Input \u001b[0;32mIn [31]\u001b[0m, in \u001b[0;36m<cell line: 1>\u001b[0;34m()\u001b[0m\n\u001b[0;32m----> 1\u001b[0m combine_list[\u001b[38;5;241m1\u001b[39m][\u001b[38;5;241m1\u001b[39m] \u001b[38;5;241m=\u001b[39m \u001b[38;5;124m'\u001b[39m\u001b[38;5;124me\u001b[39m\u001b[38;5;124m'\u001b[39m\n",
      "\u001b[0;31mTypeError\u001b[0m: 'str' object does not support item assignment"
     ]
    }
   ],
   "source": [
    "combine_list[1][1] = 'e'"
   ]
  },
  {
   "cell_type": "code",
   "execution_count": 32,
   "id": "73d7415f",
   "metadata": {},
   "outputs": [],
   "source": [
    "combine_list.append('new Item')"
   ]
  },
  {
   "cell_type": "code",
   "execution_count": 35,
   "id": "35a283a6",
   "metadata": {},
   "outputs": [
    {
     "data": {
      "text/plain": [
       "['four', 'quyet1', 'STRING', 100, 23.2]"
      ]
     },
     "execution_count": 35,
     "metadata": {},
     "output_type": "execute_result"
    }
   ],
   "source": [
    "combine_list"
   ]
  },
  {
   "cell_type": "code",
   "execution_count": 34,
   "id": "fd93c500",
   "metadata": {},
   "outputs": [
    {
     "data": {
      "text/plain": [
       "'new Item'"
      ]
     },
     "execution_count": 34,
     "metadata": {},
     "output_type": "execute_result"
    }
   ],
   "source": [
    "combine_list.pop()"
   ]
  },
  {
   "cell_type": "code",
   "execution_count": 37,
   "id": "66eecb0d",
   "metadata": {},
   "outputs": [],
   "source": [
    "popItem = combine_list.pop()"
   ]
  },
  {
   "cell_type": "code",
   "execution_count": 38,
   "id": "2573e1e0",
   "metadata": {},
   "outputs": [
    {
     "data": {
      "text/plain": [
       "23.2"
      ]
     },
     "execution_count": 38,
     "metadata": {},
     "output_type": "execute_result"
    }
   ],
   "source": [
    "popItem"
   ]
  },
  {
   "cell_type": "code",
   "execution_count": 39,
   "id": "5c0e311a",
   "metadata": {},
   "outputs": [
    {
     "data": {
      "text/plain": [
       "'STRING'"
      ]
     },
     "execution_count": 39,
     "metadata": {},
     "output_type": "execute_result"
    }
   ],
   "source": [
    "combine_list.pop(2)"
   ]
  },
  {
   "cell_type": "code",
   "execution_count": 40,
   "id": "266015e5",
   "metadata": {},
   "outputs": [],
   "source": [
    " new_list = ['a', 'b', 'e', 'b', 'n', 'f', 'o', 's']"
   ]
  },
  {
   "cell_type": "code",
   "execution_count": 41,
   "id": "9eefd160",
   "metadata": {},
   "outputs": [],
   "source": [
    "num_list = [4, 1, 3, 0]"
   ]
  },
  {
   "cell_type": "code",
   "execution_count": 42,
   "id": "4a55515b",
   "metadata": {},
   "outputs": [],
   "source": [
    "new_list.sort()"
   ]
  },
  {
   "cell_type": "code",
   "execution_count": 45,
   "id": "35667e5e",
   "metadata": {},
   "outputs": [
    {
     "data": {
      "text/plain": [
       "['s', 'o', 'n', 'f', 'e', 'b', 'b', 'a']"
      ]
     },
     "execution_count": 45,
     "metadata": {},
     "output_type": "execute_result"
    }
   ],
   "source": [
    "new_list"
   ]
  },
  {
   "cell_type": "code",
   "execution_count": 44,
   "id": "50139389",
   "metadata": {},
   "outputs": [],
   "source": [
    "new_list.reverse()"
   ]
  },
  {
   "cell_type": "code",
   "execution_count": 46,
   "id": "c4e489d6",
   "metadata": {},
   "outputs": [],
   "source": [
    "my_dict = { \"key1\": \"value1\", \"key2\": \"value2\" }"
   ]
  },
  {
   "cell_type": "code",
   "execution_count": 47,
   "id": "4d4f6490",
   "metadata": {},
   "outputs": [
    {
     "data": {
      "text/plain": [
       "{'key1': 'value1', 'key2': 'value2'}"
      ]
     },
     "execution_count": 47,
     "metadata": {},
     "output_type": "execute_result"
    }
   ],
   "source": [
    "my_dict"
   ]
  },
  {
   "cell_type": "code",
   "execution_count": 50,
   "id": "7a04f4c9",
   "metadata": {},
   "outputs": [
    {
     "data": {
      "text/plain": [
       "'value1'"
      ]
     },
     "execution_count": 50,
     "metadata": {},
     "output_type": "execute_result"
    }
   ],
   "source": [
    "my_dict['key1']"
   ]
  },
  {
   "cell_type": "code",
   "execution_count": 51,
   "id": "d904d351",
   "metadata": {},
   "outputs": [],
   "source": [
    "prices_lookup = { 'apple': 2.99, 'oranges': 1.99, 'milk': 5.08 }"
   ]
  },
  {
   "cell_type": "code",
   "execution_count": 52,
   "id": "16772f8d",
   "metadata": {},
   "outputs": [
    {
     "data": {
      "text/plain": [
       "2.99"
      ]
     },
     "execution_count": 52,
     "metadata": {},
     "output_type": "execute_result"
    }
   ],
   "source": [
    "prices_lookup['apple']"
   ]
  },
  {
   "cell_type": "code",
   "execution_count": 53,
   "id": "4dcea3cf",
   "metadata": {},
   "outputs": [],
   "source": [
    "t = (1,2,3)"
   ]
  },
  {
   "cell_type": "code",
   "execution_count": 54,
   "id": "eaee9d25",
   "metadata": {},
   "outputs": [],
   "source": [
    "mylist = [1,2,3]"
   ]
  },
  {
   "cell_type": "code",
   "execution_count": 55,
   "id": "3dd2ad47",
   "metadata": {},
   "outputs": [
    {
     "data": {
      "text/plain": [
       "tuple"
      ]
     },
     "execution_count": 55,
     "metadata": {},
     "output_type": "execute_result"
    }
   ],
   "source": [
    "type(t)"
   ]
  },
  {
   "cell_type": "code",
   "execution_count": 56,
   "id": "9a6aafe1",
   "metadata": {},
   "outputs": [
    {
     "data": {
      "text/plain": [
       "list"
      ]
     },
     "execution_count": 56,
     "metadata": {},
     "output_type": "execute_result"
    }
   ],
   "source": [
    "type(mylist)"
   ]
  },
  {
   "cell_type": "code",
   "execution_count": 57,
   "id": "bcd17ced",
   "metadata": {},
   "outputs": [],
   "source": [
    "t = ('one', 2)"
   ]
  },
  {
   "cell_type": "code",
   "execution_count": 58,
   "id": "66853f9b",
   "metadata": {},
   "outputs": [
    {
     "data": {
      "text/plain": [
       "'one'"
      ]
     },
     "execution_count": 58,
     "metadata": {},
     "output_type": "execute_result"
    }
   ],
   "source": [
    "t[0]"
   ]
  },
  {
   "cell_type": "code",
   "execution_count": 59,
   "id": "859447ec",
   "metadata": {},
   "outputs": [],
   "source": [
    "t = ('a', 'a', 'b')"
   ]
  },
  {
   "cell_type": "code",
   "execution_count": 60,
   "id": "f1d671d3",
   "metadata": {},
   "outputs": [
    {
     "data": {
      "text/plain": [
       "2"
      ]
     },
     "execution_count": 60,
     "metadata": {},
     "output_type": "execute_result"
    }
   ],
   "source": [
    "t.count('a')"
   ]
  },
  {
   "cell_type": "code",
   "execution_count": 61,
   "id": "688e7135",
   "metadata": {},
   "outputs": [
    {
     "data": {
      "text/plain": [
       "0"
      ]
     },
     "execution_count": 61,
     "metadata": {},
     "output_type": "execute_result"
    }
   ],
   "source": [
    "t.index('a')"
   ]
  },
  {
   "cell_type": "code",
   "execution_count": 62,
   "id": "d17ba0dc",
   "metadata": {},
   "outputs": [],
   "source": [
    "t = ('a', [('b', 'v', 1), 2], 'b', 3)"
   ]
  },
  {
   "cell_type": "code",
   "execution_count": 64,
   "id": "88e5a703",
   "metadata": {},
   "outputs": [
    {
     "data": {
      "text/plain": [
       "1"
      ]
     },
     "execution_count": 64,
     "metadata": {},
     "output_type": "execute_result"
    }
   ],
   "source": [
    "t.count('b')"
   ]
  },
  {
   "cell_type": "code",
   "execution_count": 65,
   "id": "64ece44d",
   "metadata": {},
   "outputs": [
    {
     "data": {
      "text/plain": [
       "('a', [('b', 'v', 1), 2], 'b', 3)"
      ]
     },
     "execution_count": 65,
     "metadata": {},
     "output_type": "execute_result"
    }
   ],
   "source": [
    "t"
   ]
  },
  {
   "cell_type": "code",
   "execution_count": 66,
   "id": "6f55b8cd",
   "metadata": {},
   "outputs": [],
   "source": [
    "t[1][1] = 3"
   ]
  },
  {
   "cell_type": "code",
   "execution_count": 67,
   "id": "2f398d3f",
   "metadata": {},
   "outputs": [
    {
     "data": {
      "text/plain": [
       "('a', [('b', 'v', 1), 3], 'b', 3)"
      ]
     },
     "execution_count": 67,
     "metadata": {},
     "output_type": "execute_result"
    }
   ],
   "source": [
    "t"
   ]
  },
  {
   "cell_type": "markdown",
   "id": "38f8827c",
   "metadata": {},
   "source": [
    "# SET's Python"
   ]
  },
  {
   "cell_type": "code",
   "execution_count": 68,
   "id": "e6245dca",
   "metadata": {},
   "outputs": [],
   "source": [
    "myset = { 1, 2 }"
   ]
  },
  {
   "cell_type": "code",
   "execution_count": 69,
   "id": "a14cd08b",
   "metadata": {},
   "outputs": [
    {
     "data": {
      "text/plain": [
       "{1, 2}"
      ]
     },
     "execution_count": 69,
     "metadata": {},
     "output_type": "execute_result"
    }
   ],
   "source": [
    "myset"
   ]
  },
  {
   "cell_type": "code",
   "execution_count": 70,
   "id": "2382ffb6",
   "metadata": {},
   "outputs": [
    {
     "data": {
      "text/plain": [
       "set"
      ]
     },
     "execution_count": 70,
     "metadata": {},
     "output_type": "execute_result"
    }
   ],
   "source": [
    "type(myset)"
   ]
  },
  {
   "cell_type": "code",
   "execution_count": 71,
   "id": "9d66da60",
   "metadata": {},
   "outputs": [],
   "source": [
    "new_set = set()"
   ]
  },
  {
   "cell_type": "code",
   "execution_count": 72,
   "id": "66c852cb",
   "metadata": {},
   "outputs": [],
   "source": [
    "new_set.add(4)"
   ]
  },
  {
   "cell_type": "code",
   "execution_count": 73,
   "id": "4d07bd23",
   "metadata": {},
   "outputs": [
    {
     "data": {
      "text/plain": [
       "{4}"
      ]
     },
     "execution_count": 73,
     "metadata": {},
     "output_type": "execute_result"
    }
   ],
   "source": [
    "new_set"
   ]
  },
  {
   "cell_type": "code",
   "execution_count": 74,
   "id": "768b9eb2",
   "metadata": {},
   "outputs": [],
   "source": [
    "mylist = [1,6,3,6,54,3,2,4,3,3,1,6,3,4,2,2,4,0]"
   ]
  },
  {
   "cell_type": "code",
   "execution_count": 75,
   "id": "ba09d16e",
   "metadata": {},
   "outputs": [
    {
     "data": {
      "text/plain": [
       "{0, 1, 2, 3, 4, 6, 54}"
      ]
     },
     "execution_count": 75,
     "metadata": {},
     "output_type": "execute_result"
    }
   ],
   "source": [
    "set(mylist)"
   ]
  },
  {
   "cell_type": "code",
   "execution_count": 76,
   "id": "3453f42c",
   "metadata": {},
   "outputs": [
    {
     "data": {
      "text/plain": [
       "list"
      ]
     },
     "execution_count": 76,
     "metadata": {},
     "output_type": "execute_result"
    }
   ],
   "source": [
    "type(mylist)"
   ]
  },
  {
   "cell_type": "code",
   "execution_count": 77,
   "id": "e7fa07b3",
   "metadata": {},
   "outputs": [
    {
     "data": {
      "text/plain": [
       "[1, 6, 3, 6, 54, 3, 2, 4, 3, 3, 1, 6, 3, 4, 2, 2, 4, 0]"
      ]
     },
     "execution_count": 77,
     "metadata": {},
     "output_type": "execute_result"
    }
   ],
   "source": [
    "mylist"
   ]
  },
  {
   "cell_type": "code",
   "execution_count": 78,
   "id": "11f7fedf",
   "metadata": {},
   "outputs": [
    {
     "data": {
      "text/plain": [
       "set"
      ]
     },
     "execution_count": 78,
     "metadata": {},
     "output_type": "execute_result"
    }
   ],
   "source": [
    "type(set(mylist))"
   ]
  },
  {
   "cell_type": "code",
   "execution_count": 79,
   "id": "900f9652",
   "metadata": {},
   "outputs": [],
   "source": [
    "a = set(mylist)"
   ]
  },
  {
   "cell_type": "code",
   "execution_count": 80,
   "id": "f3558ef2",
   "metadata": {},
   "outputs": [
    {
     "data": {
      "text/plain": [
       "{'a', 'h', 'i'}"
      ]
     },
     "execution_count": 80,
     "metadata": {},
     "output_type": "execute_result"
    }
   ],
   "source": [
    "set('aahihiih')"
   ]
  },
  {
   "cell_type": "code",
   "execution_count": 82,
   "id": "8ceb5f38",
   "metadata": {},
   "outputs": [
    {
     "ename": "TypeError",
     "evalue": "set expected at most 1 argument, got 2",
     "output_type": "error",
     "traceback": [
      "\u001b[0;31m---------------------------------------------------------------------------\u001b[0m",
      "\u001b[0;31mTypeError\u001b[0m                                 Traceback (most recent call last)",
      "Input \u001b[0;32mIn [82]\u001b[0m, in \u001b[0;36m<cell line: 1>\u001b[0;34m()\u001b[0m\n\u001b[0;32m----> 1\u001b[0m \u001b[38;5;28;43mset\u001b[39;49m\u001b[43m(\u001b[49m\u001b[38;5;241;43m1\u001b[39;49m\u001b[43m,\u001b[49m\u001b[43m \u001b[49m\u001b[38;5;124;43m\"\u001b[39;49m\u001b[38;5;124;43mahihi\u001b[39;49m\u001b[38;5;124;43m\"\u001b[39;49m\u001b[43m)\u001b[49m\n",
      "\u001b[0;31mTypeError\u001b[0m: set expected at most 1 argument, got 2"
     ]
    }
   ],
   "source": [
    "set(1, \"ahihi\")"
   ]
  },
  {
   "cell_type": "code",
   "execution_count": 87,
   "id": "5d9e9c53",
   "metadata": {},
   "outputs": [],
   "source": [
    "lit = [a, \"ahihi\"]"
   ]
  },
  {
   "cell_type": "code",
   "execution_count": 84,
   "id": "3e15a720",
   "metadata": {},
   "outputs": [
    {
     "ename": "TypeError",
     "evalue": "unhashable type: 'set'",
     "output_type": "error",
     "traceback": [
      "\u001b[0;31m---------------------------------------------------------------------------\u001b[0m",
      "\u001b[0;31mTypeError\u001b[0m                                 Traceback (most recent call last)",
      "Input \u001b[0;32mIn [84]\u001b[0m, in \u001b[0;36m<cell line: 1>\u001b[0;34m()\u001b[0m\n\u001b[0;32m----> 1\u001b[0m \u001b[38;5;28;43mset\u001b[39;49m\u001b[43m(\u001b[49m\u001b[43mlit\u001b[49m\u001b[43m)\u001b[49m\n",
      "\u001b[0;31mTypeError\u001b[0m: unhashable type: 'set'"
     ]
    }
   ],
   "source": [
    "set(lit)"
   ]
  },
  {
   "cell_type": "code",
   "execution_count": 85,
   "id": "5f03e78b",
   "metadata": {},
   "outputs": [
    {
     "data": {
      "text/plain": [
       "{0, 1, 2, 3, 4, 6, 54}"
      ]
     },
     "execution_count": 85,
     "metadata": {},
     "output_type": "execute_result"
    }
   ],
   "source": [
    "set(mylist)"
   ]
  },
  {
   "cell_type": "code",
   "execution_count": 86,
   "id": "15952e91",
   "metadata": {},
   "outputs": [
    {
     "ename": "TypeError",
     "evalue": "unhashable type: 'set'",
     "output_type": "error",
     "traceback": [
      "\u001b[0;31m---------------------------------------------------------------------------\u001b[0m",
      "\u001b[0;31mTypeError\u001b[0m                                 Traceback (most recent call last)",
      "Input \u001b[0;32mIn [86]\u001b[0m, in \u001b[0;36m<cell line: 1>\u001b[0;34m()\u001b[0m\n\u001b[0;32m----> 1\u001b[0m \u001b[38;5;28;43mset\u001b[39;49m\u001b[43m \u001b[49m\u001b[43m(\u001b[49m\u001b[43mlit\u001b[49m\u001b[43m)\u001b[49m\n",
      "\u001b[0;31mTypeError\u001b[0m: unhashable type: 'set'"
     ]
    }
   ],
   "source": [
    "set (lit)"
   ]
  },
  {
   "cell_type": "code",
   "execution_count": 88,
   "id": "be4758cf",
   "metadata": {},
   "outputs": [
    {
     "data": {
      "text/plain": [
       "[{0, 1, 2, 3, 4, 6, 54}, 'ahihi']"
      ]
     },
     "execution_count": 88,
     "metadata": {},
     "output_type": "execute_result"
    }
   ],
   "source": [
    "lit"
   ]
  },
  {
   "cell_type": "code",
   "execution_count": 97,
   "id": "fa009b4d",
   "metadata": {},
   "outputs": [],
   "source": [
    "lit = [0, 1, 2, 3, 4, 5]"
   ]
  },
  {
   "cell_type": "code",
   "execution_count": 98,
   "id": "2780d3f1",
   "metadata": {},
   "outputs": [
    {
     "data": {
      "text/plain": [
       "{0, 1, 2, 3, 4, 5}"
      ]
     },
     "execution_count": 98,
     "metadata": {},
     "output_type": "execute_result"
    }
   ],
   "source": [
    "set(lit)"
   ]
  },
  {
   "cell_type": "code",
   "execution_count": 99,
   "id": "7f5b5e72",
   "metadata": {},
   "outputs": [
    {
     "data": {
      "text/plain": [
       "{1, 2, 3}"
      ]
     },
     "execution_count": 99,
     "metadata": {},
     "output_type": "execute_result"
    }
   ],
   "source": [
    "set((1,2,3))"
   ]
  },
  {
   "cell_type": "code",
   "execution_count": 100,
   "id": "65de156d",
   "metadata": {},
   "outputs": [
    {
     "data": {
      "text/plain": [
       "set"
      ]
     },
     "execution_count": 100,
     "metadata": {},
     "output_type": "execute_result"
    }
   ],
   "source": [
    "type(set((1,2,3)))"
   ]
  },
  {
   "cell_type": "code",
   "execution_count": 101,
   "id": "80f64b4b",
   "metadata": {},
   "outputs": [],
   "source": [
    "true = 3"
   ]
  },
  {
   "cell_type": "code",
   "execution_count": 102,
   "id": "9a02499c",
   "metadata": {},
   "outputs": [
    {
     "data": {
      "text/plain": [
       "3"
      ]
     },
     "execution_count": 102,
     "metadata": {},
     "output_type": "execute_result"
    }
   ],
   "source": [
    "true"
   ]
  },
  {
   "cell_type": "code",
   "execution_count": 103,
   "id": "b3ef8eba",
   "metadata": {},
   "outputs": [
    {
     "data": {
      "text/plain": [
       "{1, 2, 3}"
      ]
     },
     "execution_count": 103,
     "metadata": {},
     "output_type": "execute_result"
    }
   ],
   "source": [
    "set([1,1,2,3])"
   ]
  },
  {
   "cell_type": "code",
   "execution_count": 138,
   "id": "a0aecafb",
   "metadata": {},
   "outputs": [
    {
     "name": "stdout",
     "output_type": "stream",
     "text": [
      "Overwriting myfile.txt\n"
     ]
    }
   ],
   "source": [
    "%%writefile myfile.txt\n",
    "Hello this is a text file\n",
    "this is the second line\n",
    "this is the third line"
   ]
  },
  {
   "cell_type": "code",
   "execution_count": 105,
   "id": "449b0b50",
   "metadata": {},
   "outputs": [],
   "source": [
    "myfile = open('myfile.txt')"
   ]
  },
  {
   "cell_type": "code",
   "execution_count": 106,
   "id": "ee30eb6e",
   "metadata": {},
   "outputs": [
    {
     "data": {
      "text/plain": [
       "'/home/qmait/Workspace/MINE/Learning/Python'"
      ]
     },
     "execution_count": 106,
     "metadata": {},
     "output_type": "execute_result"
    }
   ],
   "source": [
    "pwd"
   ]
  },
  {
   "cell_type": "code",
   "execution_count": 107,
   "id": "1e0926c0",
   "metadata": {},
   "outputs": [
    {
     "ename": "NameError",
     "evalue": "name 'nautilus' is not defined",
     "output_type": "error",
     "traceback": [
      "\u001b[0;31m---------------------------------------------------------------------------\u001b[0m",
      "\u001b[0;31mNameError\u001b[0m                                 Traceback (most recent call last)",
      "Input \u001b[0;32mIn [107]\u001b[0m, in \u001b[0;36m<cell line: 1>\u001b[0;34m()\u001b[0m\n\u001b[0;32m----> 1\u001b[0m \u001b[43mnautilus\u001b[49m\n",
      "\u001b[0;31mNameError\u001b[0m: name 'nautilus' is not defined"
     ]
    }
   ],
   "source": [
    "nautilus"
   ]
  },
  {
   "cell_type": "code",
   "execution_count": 108,
   "id": "f6794f6e",
   "metadata": {},
   "outputs": [
    {
     "name": "stdout",
     "output_type": "stream",
     "text": [
      "day1.ipynb  day2.ipynb  myfile.txt  Untitled.ipynb\r\n"
     ]
    }
   ],
   "source": [
    "ls"
   ]
  },
  {
   "cell_type": "code",
   "execution_count": 109,
   "id": "bf702ccf",
   "metadata": {},
   "outputs": [],
   "source": [
    "myfile = open('myfile.txt')"
   ]
  },
  {
   "cell_type": "code",
   "execution_count": 110,
   "id": "a1bade71",
   "metadata": {},
   "outputs": [
    {
     "data": {
      "text/plain": [
       "'Hello this is a text file\\nthis is the second line\\nthis is the third line\\n'"
      ]
     },
     "execution_count": 110,
     "metadata": {},
     "output_type": "execute_result"
    }
   ],
   "source": [
    "myfile.read()"
   ]
  },
  {
   "cell_type": "code",
   "execution_count": 111,
   "id": "1faa0d0c",
   "metadata": {},
   "outputs": [
    {
     "data": {
      "text/plain": [
       "''"
      ]
     },
     "execution_count": 111,
     "metadata": {},
     "output_type": "execute_result"
    }
   ],
   "source": [
    "myfile.read()"
   ]
  },
  {
   "cell_type": "code",
   "execution_count": 112,
   "id": "d951ac39",
   "metadata": {},
   "outputs": [
    {
     "data": {
      "text/plain": [
       "0"
      ]
     },
     "execution_count": 112,
     "metadata": {},
     "output_type": "execute_result"
    }
   ],
   "source": [
    "myfile.seek(0)"
   ]
  },
  {
   "cell_type": "code",
   "execution_count": 113,
   "id": "cdf7e9e7",
   "metadata": {},
   "outputs": [
    {
     "data": {
      "text/plain": [
       "'Hello this is a text file\\nthis is the second line\\nthis is the third line\\n'"
      ]
     },
     "execution_count": 113,
     "metadata": {},
     "output_type": "execute_result"
    }
   ],
   "source": [
    "myfile.read()"
   ]
  },
  {
   "cell_type": "code",
   "execution_count": 114,
   "id": "d9729703",
   "metadata": {},
   "outputs": [
    {
     "data": {
      "text/plain": [
       "0"
      ]
     },
     "execution_count": 114,
     "metadata": {},
     "output_type": "execute_result"
    }
   ],
   "source": [
    "myfile.seek(0)"
   ]
  },
  {
   "cell_type": "code",
   "execution_count": 115,
   "id": "03be7a1a",
   "metadata": {},
   "outputs": [],
   "source": [
    "contents = myfile.read()"
   ]
  },
  {
   "cell_type": "code",
   "execution_count": 116,
   "id": "78a7f18f",
   "metadata": {},
   "outputs": [
    {
     "data": {
      "text/plain": [
       "'Hello this is a text file\\nthis is the second line\\nthis is the third line\\n'"
      ]
     },
     "execution_count": 116,
     "metadata": {},
     "output_type": "execute_result"
    }
   ],
   "source": [
    "contents"
   ]
  },
  {
   "cell_type": "code",
   "execution_count": 117,
   "id": "e5c51190",
   "metadata": {},
   "outputs": [
    {
     "data": {
      "text/plain": [
       "0"
      ]
     },
     "execution_count": 117,
     "metadata": {},
     "output_type": "execute_result"
    }
   ],
   "source": [
    " myfile.seek(0)"
   ]
  },
  {
   "cell_type": "code",
   "execution_count": 118,
   "id": "5ce173d2",
   "metadata": {},
   "outputs": [],
   "source": [
    "readline = myfile.readlines()"
   ]
  },
  {
   "cell_type": "code",
   "execution_count": 119,
   "id": "475affca",
   "metadata": {},
   "outputs": [
    {
     "data": {
      "text/plain": [
       "['Hello this is a text file\\n',\n",
       " 'this is the second line\\n',\n",
       " 'this is the third line\\n']"
      ]
     },
     "execution_count": 119,
     "metadata": {},
     "output_type": "execute_result"
    }
   ],
   "source": [
    "readline"
   ]
  },
  {
   "cell_type": "code",
   "execution_count": 120,
   "id": "3ab0e9ef",
   "metadata": {},
   "outputs": [
    {
     "data": {
      "text/plain": [
       "'/home/qmait/Workspace/MINE/Learning/Python'"
      ]
     },
     "execution_count": 120,
     "metadata": {},
     "output_type": "execute_result"
    }
   ],
   "source": [
    "pwd"
   ]
  },
  {
   "cell_type": "code",
   "execution_count": 121,
   "id": "5ff137fc",
   "metadata": {},
   "outputs": [],
   "source": [
    "myfile.close()"
   ]
  },
  {
   "cell_type": "code",
   "execution_count": 122,
   "id": "1901ddab",
   "metadata": {},
   "outputs": [],
   "source": [
    "with open('myfile.txt') as my_new_file:\n",
    "    contents = my_new_file.read()"
   ]
  },
  {
   "cell_type": "code",
   "execution_count": 123,
   "id": "cef08609",
   "metadata": {},
   "outputs": [
    {
     "data": {
      "text/plain": [
       "'Hello this is a text file\\nthis is the second line\\nthis is the third line\\n'"
      ]
     },
     "execution_count": 123,
     "metadata": {},
     "output_type": "execute_result"
    }
   ],
   "source": [
    "contents"
   ]
  },
  {
   "cell_type": "code",
   "execution_count": 151,
   "id": "131cd77b",
   "metadata": {},
   "outputs": [],
   "source": [
    "with open('myfile.txt', mode='r+') as myfile:\n",
    "    contents = myfile.read()\n",
    "    myfile.seek(0)"
   ]
  },
  {
   "cell_type": "code",
   "execution_count": 153,
   "id": "97b6335f",
   "metadata": {},
   "outputs": [
    {
     "data": {
      "text/plain": [
       "'Hello this is a text file\\nthis is the second line\\nthis is the third line\\n'"
      ]
     },
     "execution_count": 153,
     "metadata": {},
     "output_type": "execute_result"
    }
   ],
   "source": [
    "contents"
   ]
  },
  {
   "cell_type": "code",
   "execution_count": 158,
   "id": "a93e45cb",
   "metadata": {},
   "outputs": [
    {
     "name": "stdout",
     "output_type": "stream",
     "text": [
      "Overwriting myfile_new.txt\n"
     ]
    }
   ],
   "source": [
    "%%writefile myfile_new.txt\n",
    "Hello this is a text file\n",
    "this is the second line\n",
    "this is the third line"
   ]
  },
  {
   "cell_type": "code",
   "execution_count": 155,
   "id": "88e6c622",
   "metadata": {},
   "outputs": [
    {
     "name": "stdout",
     "output_type": "stream",
     "text": [
      "Hello this is a text file\n",
      "this is the second line\n",
      "this is the third line\n",
      "\n"
     ]
    }
   ],
   "source": [
    "with open('myfile_new.txt', 'r') as f:\n",
    "    print(f.read())"
   ]
  },
  {
   "cell_type": "code",
   "execution_count": 159,
   "id": "757f65c4",
   "metadata": {},
   "outputs": [],
   "source": [
    "with open('myfile_new.txt', 'a') as f:\n",
    "    f.write('FOUR ON FOUR')"
   ]
  },
  {
   "cell_type": "code",
   "execution_count": 160,
   "id": "7e6c63a7",
   "metadata": {},
   "outputs": [
    {
     "name": "stdout",
     "output_type": "stream",
     "text": [
      "Hello this is a text file\n",
      "this is the second line\n",
      "this is the third line\n",
      "FOUR ON FOUR\n"
     ]
    }
   ],
   "source": [
    "with open('myfile_new.txt', 'r') as f:\n",
    "    print(f.read())"
   ]
  },
  {
   "cell_type": "code",
   "execution_count": 171,
   "id": "6f5cca74",
   "metadata": {},
   "outputs": [],
   "source": [
    "with open('writemode.txt', 'w') as f:\n",
    "    f.write('I CREATED THIS FILE!')"
   ]
  },
  {
   "cell_type": "code",
   "execution_count": 172,
   "id": "4e144f0e",
   "metadata": {},
   "outputs": [
    {
     "name": "stdout",
     "output_type": "stream",
     "text": [
      "I CREATED THIS FILE!\n"
     ]
    }
   ],
   "source": [
    "with open('writemode.txt', 'r') as f:\n",
    "    print(f.read())"
   ]
  },
  {
   "cell_type": "code",
   "execution_count": null,
   "id": "8b3af2eb",
   "metadata": {},
   "outputs": [],
   "source": []
  },
  {
   "cell_type": "code",
   "execution_count": null,
   "id": "8a2d1bf2",
   "metadata": {},
   "outputs": [],
   "source": []
  },
  {
   "cell_type": "code",
   "execution_count": null,
   "id": "b87b042a",
   "metadata": {},
   "outputs": [],
   "source": []
  }
 ],
 "metadata": {
  "kernelspec": {
   "display_name": "Python 3 (ipykernel)",
   "language": "python",
   "name": "python3"
  },
  "language_info": {
   "codemirror_mode": {
    "name": "ipython",
    "version": 3
   },
   "file_extension": ".py",
   "mimetype": "text/x-python",
   "name": "python",
   "nbconvert_exporter": "python",
   "pygments_lexer": "ipython3",
   "version": "3.9.12"
  }
 },
 "nbformat": 4,
 "nbformat_minor": 5
}
