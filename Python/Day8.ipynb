{
 "cells": [
  {
   "cell_type": "code",
   "execution_count": 11,
   "id": "43c71545",
   "metadata": {},
   "outputs": [
    {
     "name": "stdout",
     "output_type": "stream",
     "text": [
      "running new_decorator\n"
     ]
    }
   ],
   "source": [
    "def new_decorator(original_func):\n",
    "    def wrap_func():\n",
    "        print('Some extra code, before the original function ')"
   ]
  },
  {
   "cell_type": "code",
   "execution_count": 12,
   "id": "2b3c6a37",
   "metadata": {},
   "outputs": [
    {
     "name": "stdout",
     "output_type": "stream",
     "text": [
      "first decorator\n"
     ]
    }
   ],
   "source": [
    "func_need_decorator()"
   ]
  },
  {
   "cell_type": "code",
   "execution_count": 13,
   "id": "dce9b1e5",
   "metadata": {},
   "outputs": [],
   "source": [
    "def new_decorator(original_func):\n",
    "    def wrap_func():\n",
    "        print('Some extra code, before the original function')\n",
    "        original_func()\n",
    "        print('some extra code, after the original function')\n",
    "    return wrap_func"
   ]
  },
  {
   "cell_type": "code",
   "execution_count": 14,
   "id": "a3286d77",
   "metadata": {},
   "outputs": [],
   "source": [
    "def func_needs_decorator():\n",
    "    print(\"I want to be decorated\")"
   ]
  },
  {
   "cell_type": "code",
   "execution_count": 18,
   "id": "a2854cb4",
   "metadata": {},
   "outputs": [],
   "source": [
    "decorated_func = new_decorator(func_needs_decorator)"
   ]
  },
  {
   "cell_type": "code",
   "execution_count": 19,
   "id": "b5f844e0",
   "metadata": {},
   "outputs": [
    {
     "name": "stdout",
     "output_type": "stream",
     "text": [
      "Some extra code, before the original function\n",
      "I want to be decorated\n",
      "some extra code, after the original function\n"
     ]
    }
   ],
   "source": [
    "decorated_func()"
   ]
  },
  {
   "cell_type": "code",
   "execution_count": 20,
   "id": "d37e9891",
   "metadata": {},
   "outputs": [],
   "source": [
    "@new_decorator\n",
    "def func_need_decorator():\n",
    "    print(\"i dont want\")"
   ]
  },
  {
   "cell_type": "code",
   "execution_count": 24,
   "id": "c8b1f079",
   "metadata": {},
   "outputs": [
    {
     "ename": "NameError",
     "evalue": "name 'func_need_decorator' is not defined",
     "output_type": "error",
     "traceback": [
      "\u001b[0;31m---------------------------------------------------------------------------\u001b[0m",
      "\u001b[0;31mNameError\u001b[0m                                 Traceback (most recent call last)",
      "Input \u001b[0;32mIn [24]\u001b[0m, in \u001b[0;36m<cell line: 1>\u001b[0;34m()\u001b[0m\n\u001b[0;32m----> 1\u001b[0m \u001b[43mfunc_need_decorator\u001b[49m()\n",
      "\u001b[0;31mNameError\u001b[0m: name 'func_need_decorator' is not defined"
     ]
    }
   ],
   "source": [
    "func_need_decorator()"
   ]
  },
  {
   "cell_type": "code",
   "execution_count": 23,
   "id": "a69ab25f",
   "metadata": {},
   "outputs": [],
   "source": [
    "del func_need_decorator"
   ]
  },
  {
   "cell_type": "code",
   "execution_count": 25,
   "id": "2fe7640a",
   "metadata": {},
   "outputs": [
    {
     "data": {
      "text/plain": [
       "range(10, 14)"
      ]
     },
     "execution_count": 25,
     "metadata": {},
     "output_type": "execute_result"
    }
   ],
   "source": [
    "range(10,14)"
   ]
  },
  {
   "cell_type": "code",
   "execution_count": 26,
   "id": "523b9bce",
   "metadata": {},
   "outputs": [
    {
     "data": {
      "text/plain": [
       "range"
      ]
     },
     "execution_count": 26,
     "metadata": {},
     "output_type": "execute_result"
    }
   ],
   "source": [
    "type(range(10, 14))"
   ]
  },
  {
   "cell_type": "code",
   "execution_count": 27,
   "id": "119aa105",
   "metadata": {},
   "outputs": [
    {
     "name": "stdout",
     "output_type": "stream",
     "text": [
      "range(10, 14)\n"
     ]
    }
   ],
   "source": [
    "print(range(10, 14))"
   ]
  },
  {
   "cell_type": "code",
   "execution_count": 28,
   "id": "8ed57a5f",
   "metadata": {},
   "outputs": [],
   "source": [
    "def create_cubes(n):\n",
    "    result = []\n",
    "    for x in range(n):\n",
    "        result.append(x**3)\n",
    "    return result "
   ]
  },
  {
   "cell_type": "code",
   "execution_count": 30,
   "id": "39ac8e8c",
   "metadata": {},
   "outputs": [
    {
     "ename": "SyntaxError",
     "evalue": "invalid syntax (3475677491.py, line 1)",
     "output_type": "error",
     "traceback": [
      "\u001b[0;36m  Input \u001b[0;32mIn [30]\u001b[0;36m\u001b[0m\n\u001b[0;31m    type(yield 3)\u001b[0m\n\u001b[0m         ^\u001b[0m\n\u001b[0;31mSyntaxError\u001b[0m\u001b[0;31m:\u001b[0m invalid syntax\n"
     ]
    }
   ],
   "source": [
    "type(yield 3)"
   ]
  },
  {
   "cell_type": "code",
   "execution_count": 46,
   "id": "5ddbe4b4",
   "metadata": {},
   "outputs": [],
   "source": [
    "def create_cubes(n):\n",
    "    for x in range(n):\n",
    "        print(x, x**3, 3)\n",
    "        yield x**3"
   ]
  },
  {
   "cell_type": "code",
   "execution_count": 47,
   "id": "44089c2d",
   "metadata": {},
   "outputs": [
    {
     "name": "stdout",
     "output_type": "stream",
     "text": [
      "0 0\n",
      "1 1\n",
      "2 8\n",
      "3 27\n",
      "4 64\n",
      "5 125\n",
      "6 216\n",
      "7 343\n",
      "8 512\n",
      "9 729\n",
      "[0, 1, 8, 27, 64, 125, 216, 343, 512, 729]\n"
     ]
    }
   ],
   "source": [
    "print(list(create_cubes(10)))"
   ]
  },
  {
   "cell_type": "code",
   "execution_count": 40,
   "id": "f7e1cac6",
   "metadata": {},
   "outputs": [
    {
     "name": "stdout",
     "output_type": "stream",
     "text": [
      "16\n"
     ]
    }
   ],
   "source": [
    "print(2**4)"
   ]
  },
  {
   "cell_type": "code",
   "execution_count": 48,
   "id": "74e5d63d",
   "metadata": {},
   "outputs": [],
   "source": [
    "m = \"ahihi\""
   ]
  },
  {
   "cell_type": "code",
   "execution_count": 49,
   "id": "d43c05c7",
   "metadata": {},
   "outputs": [],
   "source": [
    "m_iter = iter(m)"
   ]
  },
  {
   "cell_type": "code",
   "execution_count": 56,
   "id": "86638c97",
   "metadata": {},
   "outputs": [
    {
     "ename": "StopIteration",
     "evalue": "",
     "output_type": "error",
     "traceback": [
      "\u001b[0;31m---------------------------------------------------------------------------\u001b[0m",
      "\u001b[0;31mStopIteration\u001b[0m                             Traceback (most recent call last)",
      "Input \u001b[0;32mIn [56]\u001b[0m, in \u001b[0;36m<cell line: 1>\u001b[0;34m()\u001b[0m\n\u001b[0;32m----> 1\u001b[0m \u001b[38;5;28;43mnext\u001b[39;49m\u001b[43m(\u001b[49m\u001b[43mm_iter\u001b[49m\u001b[43m)\u001b[49m\n",
      "\u001b[0;31mStopIteration\u001b[0m: "
     ]
    }
   ],
   "source": [
    "next(m_iter)"
   ]
  },
  {
   "cell_type": "code",
   "execution_count": null,
   "id": "035fd97c",
   "metadata": {},
   "outputs": [],
   "source": []
  },
  {
   "cell_type": "code",
   "execution_count": null,
   "id": "7a80a8c0",
   "metadata": {},
   "outputs": [],
   "source": []
  }
 ],
 "metadata": {
  "kernelspec": {
   "display_name": "Python 3 (ipykernel)",
   "language": "python",
   "name": "python3"
  },
  "language_info": {
   "codemirror_mode": {
    "name": "ipython",
    "version": 3
   },
   "file_extension": ".py",
   "mimetype": "text/x-python",
   "name": "python",
   "nbconvert_exporter": "python",
   "pygments_lexer": "ipython3",
   "version": "3.9.12"
  }
 },
 "nbformat": 4,
 "nbformat_minor": 5
}
